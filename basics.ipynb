{
  "nbformat": 4,
  "nbformat_minor": 0,
  "metadata": {
    "colab": {
      "name": "basics.ipynb",
      "provenance": [],
      "authorship_tag": "ABX9TyOpaUpnkTQkAmAqLl/6Us+x",
      "include_colab_link": true
    },
    "kernelspec": {
      "name": "python3",
      "display_name": "Python 3"
    },
    "language_info": {
      "name": "python"
    }
  },
  "cells": [
    {
      "cell_type": "markdown",
      "metadata": {
        "id": "view-in-github",
        "colab_type": "text"
      },
      "source": [
        "<a href=\"https://colab.research.google.com/github/Rajkumarr20/python/blob/main/basics.ipynb\" target=\"_parent\"><img src=\"https://colab.research.google.com/assets/colab-badge.svg\" alt=\"Open In Colab\"/></a>"
      ]
    },
    {
      "cell_type": "code",
      "execution_count": 8,
      "metadata": {
        "id": "6WetGRtQiIx1"
      },
      "outputs": [],
      "source": [
        "a= 18 \n",
        "name='bob'\n",
        "is_married= True\n",
        "color2 = 'white'"
      ]
    },
    {
      "cell_type": "code",
      "source": [
        ""
      ],
      "metadata": {
        "id": "gyrn7Z85mM57"
      },
      "execution_count": null,
      "outputs": []
    },
    {
      "cell_type": "code",
      "source": [
        "x=1\n",
        "y=5343434432333334223342442344344343244234234333333333333333333333333999999999999999999999999999999999999999999999999999999999999999999999999999999999999999999999999999999999999999999999999999999999999999999999999999999999999999999999999999999999999999999999999999999999999999999999999999999999999999999999999999999999999999999999999999999999999999999999999999999999999999999999999999999999999999999999999999999999999999999999999999999999999999999999999999999999999999999999999999999999999999999999999999999999999999999999999999999999999999999999999999999999999999999999999999999999999999999999999999999999999999999999999999999999999999999999999999999999999999999999999999999999999999999999999999999999999999999999999999999999999999999999999999999999999999999999999999999999999999999999999999999999999999999999999999999999999999999999999999999999999999999999999999999999999999999999999999999999999999999999999999999999999999999999999999999999999999999999999999999999999999999999999999999999999999999999999999999999999999999999999999999999999999999999999999999999999999999999999999999999999999999999999999999999999999999999999999999999999999999999999999999999999999999999999999999999999999999999999999999999999999999999999999999999999999999999\n"
      ],
      "metadata": {
        "id": "Z1HxziIwmOCC"
      },
      "execution_count": 18,
      "outputs": []
    },
    {
      "cell_type": "code",
      "source": [
        "age=5\n"
      ],
      "metadata": {
        "id": "PEZnLDNHk9-b"
      },
      "execution_count": 13,
      "outputs": []
    },
    {
      "cell_type": "code",
      "source": [
        "color2= 'black'"
      ],
      "metadata": {
        "id": "Z1wdE5pzlLUJ"
      },
      "execution_count": 14,
      "outputs": []
    },
    {
      "cell_type": "code",
      "source": [
        "name= 'python'"
      ],
      "metadata": {
        "id": "uG4b1ZhdlU8c"
      },
      "execution_count": 15,
      "outputs": []
    },
    {
      "cell_type": "code",
      "source": [
        "print(x)"
      ],
      "metadata": {
        "colab": {
          "base_uri": "https://localhost:8080/"
        },
        "id": "pQX8zaeMmuIt",
        "outputId": "dba0e262-b0be-442c-9b59-63d8ad57dc9b"
      },
      "execution_count": 16,
      "outputs": [
        {
          "output_type": "stream",
          "name": "stdout",
          "text": [
            "1\n"
          ]
        }
      ]
    },
    {
      "cell_type": "code",
      "source": [
        "del color2,name,\n",
        "\n"
      ],
      "metadata": {
        "id": "r8teowU2m06D"
      },
      "execution_count": 24,
      "outputs": []
    },
    {
      "cell_type": "code",
      "source": [
        "name=\"bruce wynee o1\"\n",
        "color= 'yellow'\n",
        "instittute= 'digipodium'"
      ],
      "metadata": {
        "id": "OOVJ65eGpcmW"
      },
      "execution_count": 25,
      "outputs": []
    },
    {
      "cell_type": "code",
      "source": [
        "x=1.1\n",
        "y=1.0\n",
        "z=-35.47\n"
      ],
      "metadata": {
        "id": "N1_bjrCbnN6x"
      },
      "execution_count": 20,
      "outputs": []
    },
    {
      "cell_type": "code",
      "source": [
        "z=47.087\n"
      ],
      "metadata": {
        "id": "deg2u6zjoCkx"
      },
      "execution_count": 28,
      "outputs": []
    },
    {
      "cell_type": "code",
      "source": [
        "is_coding = True\n",
        "is_fun = True\n",
        "are_u_bored = False "
      ],
      "metadata": {
        "id": "TuTV9UteqY-6"
      },
      "execution_count": 35,
      "outputs": []
    },
    {
      "cell_type": "code",
      "source": [
        "x=None\n"
      ],
      "metadata": {
        "id": "7JuzYZ1-rVHs"
      },
      "execution_count": 32,
      "outputs": []
    },
    {
      "cell_type": "code",
      "source": [
        ""
      ],
      "metadata": {
        "id": "_Ut1lyJutJ_j"
      },
      "execution_count": null,
      "outputs": []
    },
    {
      "cell_type": "code",
      "source": [
        "a=(5,10,15,20,25,30,35,40)\n",
        "vals=(1,2.2,'python')\n",
        "color= ('red','green', 'yellow')"
      ],
      "metadata": {
        "id": "8Y0ZTFATtLGS"
      },
      "execution_count": 39,
      "outputs": []
    },
    {
      "cell_type": "code",
      "source": [
        "a=[5,10,15,20,25,30,35,40]\n",
        "vals=[1,2.2,'python']\n",
        "color=['red','green', 'yellow']"
      ],
      "metadata": {
        "id": "cgV_5qZ1sGBk"
      },
      "execution_count": 40,
      "outputs": []
    },
    {
      "cell_type": "code",
      "source": [
        ""
      ],
      "metadata": {
        "id": "w5BF9M3ZtoBu"
      },
      "execution_count": null,
      "outputs": []
    },
    {
      "cell_type": "code",
      "source": [
        "a={6,10,15,20,25,30,35,40}\n",
        "vals={1,2.2,'python'}\n",
        "color={'red','green', 'yellow'}"
      ],
      "metadata": {
        "id": "FzgPHZOMtoun"
      },
      "execution_count": 42,
      "outputs": []
    },
    {
      "cell_type": "code",
      "source": [
        "car_info = {\n",
        "    \"brand\" : \" ford\",\n",
        "    \"model\" : \"mustang\",\n",
        "    \"year\" : 1964\n",
        "}"
      ],
      "metadata": {
        "id": "zpJka88_uAbp"
      },
      "execution_count": 45,
      "outputs": []
    },
    {
      "cell_type": "code",
      "source": [
        ""
      ],
      "metadata": {
        "id": "b-yx6jfNu2c1"
      },
      "execution_count": null,
      "outputs": []
    },
    {
      "cell_type": "code",
      "source": [
        "name =input (' what is your name? ')\n",
        "city = input ('what city do you live ?')\n",
        "\n"
      ],
      "metadata": {
        "colab": {
          "base_uri": "https://localhost:8080/"
        },
        "id": "RHuo2VAfu2oL",
        "outputId": "81e78835-ca24-4dfb-a272-dcb767ad2ec2"
      },
      "execution_count": 47,
      "outputs": [
        {
          "name": "stdout",
          "output_type": "stream",
          "text": [
            " what is your name? ram\n",
            "what city do you live ?lucknow\n"
          ]
        }
      ]
    }
  ]
}